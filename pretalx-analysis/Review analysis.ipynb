{
 "cells": [
  {
   "cell_type": "code",
   "execution_count": null,
   "id": "3d7e6e33-97ba-4db7-8c75-c4ca914d2a5b",
   "metadata": {},
   "outputs": [],
   "source": [
    "from contextlib import closing\n",
    "import json\n",
    "import numpy as np\n",
    "import pandas as pd\n",
    "import requests as rq\n",
    "from tqdm.auto import tqdm"
   ]
  },
  {
   "cell_type": "code",
   "execution_count": null,
   "id": "3aada0bd-17b9-488f-9ffe-ea87aaeb775a",
   "metadata": {},
   "outputs": [],
   "source": [
    "TOKEN = \"PUT TOKEN HERE\""
   ]
  },
  {
   "cell_type": "code",
   "execution_count": null,
   "id": "95562dd3-2244-4d6f-9006-d095fbe43cfb",
   "metadata": {},
   "outputs": [],
   "source": [
    "def fetch_sequence_cfp_scipy(url1, max_queries=50):\n",
    "    sequence = []\n",
    "    url = url1\n",
    "    max_queries = 50\n",
    "    num_queries = 0\n",
    "    num_results_expected = None\n",
    "\n",
    "    with closing(tqdm(total=max_queries)) as progress:\n",
    "        while True:\n",
    "            response = rq.get(url, headers={\"Authorization\": f\"Token {TOKEN}\"})\n",
    "            assert response.ok\n",
    "            data = response.json()\n",
    "            progress.update()\n",
    "            num_queries += 1\n",
    "\n",
    "            assert \"results\" in data\n",
    "            assert \"next\" in data\n",
    "\n",
    "            if num_results_expected is None and \"count\" in data:\n",
    "                num_results_expected = data[\"count\"]\n",
    "                max_queries = int(np.ceil(num_results_expected / len(data[\"results\"])))\n",
    "                progress.reset(max_queries)\n",
    "                progress.update(num_queries)\n",
    "            else:\n",
    "                assert num_results_expected == data[\"count\"]\n",
    "\n",
    "            sequence += data[\"results\"]\n",
    "            url = data[\"next\"]\n",
    "            if not url:\n",
    "                break\n",
    "\n",
    "    return sequence"
   ]
  },
  {
   "cell_type": "code",
   "execution_count": null,
   "id": "d65feadf-ec6b-44d0-b827-a9d9ab671719",
   "metadata": {},
   "outputs": [],
   "source": [
    "submissions_ = fetch_sequence_cfp_scipy(\"https://cfp.scipy.org/api/events/2024/submissions/\")\n",
    "len(submissions_)"
   ]
  },
  {
   "cell_type": "code",
   "execution_count": null,
   "id": "5dd3a5ad-3d47-418b-a664-3dca92ce8399",
   "metadata": {},
   "outputs": [],
   "source": [
    "reviews_ = fetch_sequence_cfp_scipy(\"https://cfp.scipy.org/api/events/2024/reviews/\")\n",
    "len(reviews_)"
   ]
  },
  {
   "cell_type": "code",
   "execution_count": null,
   "id": "72bb325b-2c23-4f5a-a027-6410c24e04c1",
   "metadata": {},
   "outputs": [],
   "source": [
    "submissions = pd.DataFrame.from_records(submissions_)\n",
    "submissions"
   ]
  },
  {
   "cell_type": "code",
   "execution_count": null,
   "id": "1d76651e-ad47-44d6-9140-02f173287789",
   "metadata": {},
   "outputs": [],
   "source": [
    "submissions[\"submission_type\"] = submissions[\"submission_type\"].apply(lambda x: x[\"en\"] if isinstance(x, dict) else x)\n",
    "submissions"
   ]
  },
  {
   "cell_type": "code",
   "execution_count": null,
   "id": "727b849b-6f0a-4d85-8dd2-2974b782a326",
   "metadata": {},
   "outputs": [],
   "source": [
    "tutorials = submissions.loc[(submissions[\"submission_type\"] == \"Tutorial\") & (submissions[\"state\"] == \"submitted\")].copy()\n",
    "tutorials"
   ]
  },
  {
   "cell_type": "code",
   "execution_count": null,
   "id": "3281c4c9-fb72-496f-a826-489632c9a0cc",
   "metadata": {},
   "outputs": [],
   "source": [
    "tutorials.to_csv(\"tutorials.csv\", index=False)"
   ]
  },
  {
   "cell_type": "code",
   "execution_count": null,
   "id": "e6be83ee-1543-4fc5-95b7-94ea03771e6a",
   "metadata": {},
   "outputs": [],
   "source": [
    "reviews = pd.DataFrame.from_records(reviews_)\n",
    "reviews"
   ]
  },
  {
   "cell_type": "code",
   "execution_count": null,
   "id": "62d44c67-525e-4612-9e93-404e337e5a33",
   "metadata": {},
   "outputs": [],
   "source": [
    "reviews[\"score\"] = reviews[\"score\"].map(float)\n",
    "reviews"
   ]
  },
  {
   "cell_type": "code",
   "execution_count": null,
   "id": "fdeb74ad-9b36-4b7e-ba40-0046da7dd18e",
   "metadata": {},
   "outputs": [],
   "source": [
    "score_quantiles = reviews.groupby(\"user\", as_index=False).agg({\"score\": lambda g: list(g.quantile(q=[.25, .5, .75]))}).rename(columns={\"score\": \"quantiles\"})\n",
    "score_quantiles"
   ]
  },
  {
   "cell_type": "code",
   "execution_count": null,
   "id": "f9179f6a-25c9-47ff-96ec-111d2a838ee2",
   "metadata": {},
   "outputs": [],
   "source": [
    "def normalize_by_quantiles(score, q_low, med, q_up):\n",
    "    if score <= med:\n",
    "        if med == q_low:\n",
    "            return 0.\n",
    "        else:\n",
    "            return (score - med) / (med - q_low)\n",
    "    else:\n",
    "        if med == q_up:\n",
    "            return 0.\n",
    "        else:\n",
    "            return (score - med) / (q_up - med)"
   ]
  },
  {
   "cell_type": "code",
   "execution_count": null,
   "id": "f0fc99da-26cf-4ec1-8037-96a4743bf10b",
   "metadata": {},
   "outputs": [],
   "source": [
    "reviews_norm = reviews[[\"submission\", \"text\", \"user\", \"score\"]].merge(score_quantiles, on=\"user\")\n",
    "reviews_norm[\"norm\"] = [\n",
    "    normalize_by_quantiles(score, q_low, med, q_up)\n",
    "    for score, (q_low, med, q_up) in reviews_norm[[\"score\", \"quantiles\"]].itertuples(index=False)\n",
    "]\n",
    "reviews_norm"
   ]
  },
  {
   "cell_type": "code",
   "execution_count": null,
   "id": "e7eaa694-69da-41df-b311-d64356566aa3",
   "metadata": {},
   "outputs": [],
   "source": [
    "reviews_cochairs = pd.read_csv(\"cochair-reviews.csv\")\n",
    "reviews_cochairs.drop(columns=[c for c in reviews_cochairs.columns if c.startswith(\"Unnamed\")], inplace=True)\n",
    "reviews_cochairs.rename(inplace=True, columns={\n",
    "    \"Proposal ID\": \"submission\",\n",
    "    \"Cochair Reviewer\": \"user_\",\n",
    "    \"Score (-10/10)\": \"score\",\n",
    "    \"Notes/Comments\": \"text\"\n",
    "})\n",
    "reviews_cochairs"
   ]
  },
  {
   "cell_type": "code",
   "execution_count": null,
   "id": "0ffa4a8c-a8f5-4bd8-abeb-44a2fddae3d5",
   "metadata": {},
   "outputs": [],
   "source": [
    "cochair_quantiles = reviews_cochairs.groupby(\"user_\", as_index=False).agg({\"score\": lambda g: list(g.quantile(q=[.25, .5, .75]))}).rename(columns={\"score\": \"quantiles\"})\n",
    "cochair_quantiles"
   ]
  },
  {
   "cell_type": "code",
   "execution_count": null,
   "id": "c433224b-ab37-4be8-b17f-e6c72c5a025e",
   "metadata": {},
   "outputs": [],
   "source": [
    "reviews_cochairs = reviews_cochairs.drop(columns=\"quantiles\", errors=\"ignore\").merge(cochair_quantiles, on=\"user_\")\n",
    "reviews_cochairs[\"norm\"] = [\n",
    "    normalize_by_quantiles(score, q_low, med, q_up)\n",
    "    for score, (q_low, med, q_up) in reviews_cochairs[[\"score\", \"quantiles\"]].itertuples(index=False)\n",
    "]\n",
    "reviews_cochairs[\"user\"] = reviews_cochairs[\"user_\"].map(lambda x: x + \"*\")\n",
    "reviews_cochairs"
   ]
  },
  {
   "cell_type": "code",
   "execution_count": null,
   "id": "492a352c-bb01-4793-af76-c079a9220851",
   "metadata": {},
   "outputs": [],
   "source": [
    "tags = pd.read_csv(\"tags.csv\")\n",
    "tags"
   ]
  },
  {
   "cell_type": "code",
   "execution_count": null,
   "id": "aa892f39-838f-4209-803f-45f44a1ef24b",
   "metadata": {},
   "outputs": [],
   "source": [
    "tutorials_reviewed = (\n",
    "    tutorials\n",
    "    .assign(authors=tutorials[\"speakers\"].map(lambda x: ', '.join(a[\"name\"] for a in x)))[\n",
    "        [\"code\", \"authors\", \"title\"]\n",
    "    ].merge(\n",
    "        pd.concat([\n",
    "            reviews_norm[[\"submission\", \"user\", \"text\", \"score\", \"norm\"]],\n",
    "            reviews_cochairs[[\"submission\", \"user\", \"text\", \"score\", \"norm\"]]\n",
    "        ]),\n",
    "        how=\"left\",\n",
    "        left_on=\"code\",\n",
    "        right_on=\"submission\"\n",
    "    )\n",
    "    .drop(columns=[\"submission\"])\n",
    "    .merge(tags, on=\"code\")\n",
    ")\n",
    "with pd.option_context(\"display.max_rows\", None, \"display.max_colWidth\", None):\n",
    "    display(tutorials_reviewed)"
   ]
  },
  {
   "cell_type": "code",
   "execution_count": null,
   "id": "e66868b7-7d69-4a08-b8e6-bc49472de5f4",
   "metadata": {},
   "outputs": [],
   "source": [
    "from pprint import pprint"
   ]
  },
  {
   "cell_type": "code",
   "execution_count": null,
   "id": "de0add6b-1f77-45bf-bbb2-70e27ed9c854",
   "metadata": {},
   "outputs": [],
   "source": [
    "print('decisions = {\\n' + ',\\n'.join(f'    \"{code}\": \"what\"' for code in palmares[\"code\"]) + '\\n}')"
   ]
  },
  {
   "cell_type": "code",
   "execution_count": null,
   "id": "ca4ca364-9114-4c6e-976e-3b76a21d6fb2",
   "metadata": {},
   "outputs": [],
   "source": [
    "decisions = tutorials_reviewed[[\"code\"]].drop_duplicates().assign(decision=\"what\")\n",
    "decisions"
   ]
  },
  {
   "cell_type": "code",
   "execution_count": null,
   "id": "8e1e4d99-3d7c-4cad-bb69-38b0578ebd17",
   "metadata": {},
   "outputs": [],
   "source": [
    "NL = '\\n'"
   ]
  },
  {
   "cell_type": "code",
   "execution_count": null,
   "id": "99d79cb7-4b9e-4445-ab3b-e8beb40f017c",
   "metadata": {},
   "outputs": [],
   "source": [
    "palmares = (\n",
    "    tutorials_reviewed\n",
    "    .groupby([\"code\", \"authors\", \"title\", \"tags\"], as_index=False)\n",
    "    .agg({\"text\": \"count\", \"score\": \"median\", \"norm\": \"mean\"})\n",
    "    .rename(columns={\"text\": \"num_reviews\"})\n",
    "    .merge(decisions, on=\"code\")\n",
    "    .sort_values(\"score\", ascending=False)\n",
    "    .reset_index(drop=True)\n",
    ")\n",
    "with pd.option_context(\"display.max_rows\", None):\n",
    "    display(palmares)\n",
    "\n",
    "get_ipython().set_next_input(\n",
    "    f\"\"\"\\\n",
    "decisions = pd.DataFrame([\n",
    "{f',{NL}'.join(f'    (\"{code}\", \"{decision}\")' for code, decision in palmares[[\"code\", \"decision\"]].itertuples(index=False))}\n",
    "], columns=[\"code\", \"decision\"])\"\"\")"
   ]
  },
  {
   "cell_type": "code",
   "execution_count": null,
   "id": "9472fc9d-9600-4c00-b5f0-7bc0d3b9d127",
   "metadata": {},
   "outputs": [],
   "source": [
    "palmares.to_csv(\"palmares.csv\", index=False)"
   ]
  },
  {
   "cell_type": "code",
   "execution_count": null,
   "id": "16ad8a9c-443f-4d6a-ae8c-a5d8921a8741",
   "metadata": {},
   "outputs": [],
   "source": [
    "decisions = pd.DataFrame([\n",
    "    (\"3DVH7S\", \"ACCEPT\"),\n",
    "    (\"VQCXLP\", \"ACCEPT\"),\n",
    "    (\"MTYGRK\", \"ACCEPT\"),\n",
    "    (\"Y9GD78\", \"ACCEPT\"),\n",
    "    (\"CLKG8E\", \"ACCEPT\"),\n",
    "    (\"S8FKUN\", \"ACCEPT\"),\n",
    "    (\"JRLMLD\", \"ACCEPT\"),\n",
    "    (\"PQMQ3K\", \"ACCEPT\"),\n",
    "    (\"8QVDUL\", \"ACCEPT\"),\n",
    "    (\"ZHEB8N\", \"ACCEPT\"),\n",
    "    (\"QRMWNB\", \"ACCEPT\"),\n",
    "    (\"FUYG37\", \"what\"),\n",
    "    (\"UKLNLQ\", \"what\"),\n",
    "    (\"W3ZJWG\", \"what\"),\n",
    "    (\"UUPUM8\", \"what\"),\n",
    "    (\"9UU7AW\", \"what\"),\n",
    "    (\"BARWGR\", \"what\"),\n",
    "    (\"LDSV7R\", \"what\"),\n",
    "    (\"JCCXZC\", \"what\"),\n",
    "    (\"9FATTN\", \"what\"),\n",
    "    (\"QLLABG\", \"what\"),\n",
    "    (\"PNGX8L\", \"what\"),\n",
    "    (\"NBMZ3G\", \"what\"),\n",
    "    (\"BZGQMC\", \"what\"),\n",
    "    (\"YJVQ9T\", \"what\"),\n",
    "    (\"BWVYMV\", \"what\"),\n",
    "    (\"BTG9U3\", \"what\"),\n",
    "    (\"PLWHZF\", \"what\"),\n",
    "    (\"QH8MNM\", \"what\"),\n",
    "    (\"DTRQAF\", \"what\"),\n",
    "    (\"GKGRWE\", \"what\"),\n",
    "    (\"HHVZ9T\", \"what\"),\n",
    "    (\"7UAFHL\", \"what\"),\n",
    "    (\"9JLCAA\", \"what\"),\n",
    "    (\"SNYJRW\", \"what\"),\n",
    "    (\"DYNEPX\", \"what\"),\n",
    "    (\"HPTCUP\", \"what\"),\n",
    "    (\"GJFZV3\", \"what\"),\n",
    "    (\"KLMZUG\", \"what\"),\n",
    "    (\"KDWCUY\", \"what\"),\n",
    "    (\"3YDRLD\", \"what\"),\n",
    "    (\"ZMUX8C\", \"what\"),\n",
    "    (\"WT8QQT\", \"what\"),\n",
    "    (\"WSDHK7\", \"what\"),\n",
    "    (\"NZDP7Z\", \"what\"),\n",
    "    (\"P3PACX\", \"what\"),\n",
    "    (\"LQKEWN\", \"what\"),\n",
    "    (\"KAESWL\", \"what\"),\n",
    "    (\"J3NGVU\", \"what\"),\n",
    "    (\"DMJWHY\", \"what\"),\n",
    "    (\"FYGNKM\", \"what\"),\n",
    "    (\"9XGCGR\", \"what\"),\n",
    "    (\"NXT98S\", \"what\"),\n",
    "    (\"9AMDQ3\", \"what\"),\n",
    "    (\"9AUABF\", \"what\"),\n",
    "    (\"UYVW7H\", \"what\"),\n",
    "    (\"VSRDS9\", \"what\"),\n",
    "    (\"SMQHZ8\", \"what\"),\n",
    "    (\"VTQMZH\", \"what\"),\n",
    "    (\"XUD8XW\", \"what\"),\n",
    "    (\"CRZE3B\", \"what\"),\n",
    "    (\"R9MHPC\", \"what\"),\n",
    "    (\"EB7WG7\", \"what\"),\n",
    "    (\"BHLJ9Z\", \"what\"),\n",
    "    (\"SFX8HC\", \"what\"),\n",
    "    (\"USZGYZ\", \"what\"),\n",
    "    (\"TLHY3K\", \"what\"),\n",
    "    (\"T8KFM8\", \"what\"),\n",
    "    (\"EJZTLX\", \"what\"),\n",
    "    (\"QT9GBY\", \"what\"),\n",
    "    (\"PSSASU\", \"what\"),\n",
    "    (\"S33LXK\", \"what\"),\n",
    "    (\"TPNZ8Y\", \"what\"),\n",
    "    (\"JZHRA8\", \"what\"),\n",
    "    (\"98U7KE\", \"what\"),\n",
    "    (\"USLA8A\", \"what\"),\n",
    "    (\"VQUVVU\", \"what\"),\n",
    "    (\"NZMB8H\", \"what\"),\n",
    "    (\"P8U3LX\", \"what\"),\n",
    "    (\"VRKZPW\", \"what\")\n",
    "], columns=[\"code\", \"decision\"])"
   ]
  },
  {
   "cell_type": "code",
   "execution_count": null,
   "id": "96fd327c-a79c-41a1-bd21-be43c1bd95dd",
   "metadata": {},
   "outputs": [],
   "source": [
    "decisions = pd.DataFrame([\n",
    "    (\"3DVH7S\", \"ACCEPT\"),\n",
    "    (\"VQCXLP\", \"ACCEPT\"),\n",
    "    (\"MTYGRK\", \"ACCEPT\"),\n",
    "    (\"Y9GD78\", \"ACCEPT\"),\n",
    "    (\"CLKG8E\", \"ACCEPT\"),\n",
    "    (\"S8FKUN\", \"ACCEPT\"),\n",
    "    (\"JRLMLD\", \"ACCEPT\"),\n",
    "    (\"PQMQ3K\", \"ACCEPT\"),\n",
    "    (\"8QVDUL\", \"ACCEPT\"),\n",
    "    (\"ZHEB8N\", \"ACCEPT\"),\n",
    "    (\"QRMWNB\", \"ACCEPT\"),\n",
    "    (\"FUYG37\", \"what\"),\n",
    "    (\"UKLNLQ\", \"what\"),\n",
    "    (\"W3ZJWG\", \"what\"),\n",
    "    (\"UUPUM8\", \"what\"),\n",
    "    (\"9UU7AW\", \"what\"),\n",
    "    (\"BARWGR\", \"what\"),\n",
    "    (\"LDSV7R\", \"what\"),\n",
    "    (\"JCCXZC\", \"what\"),\n",
    "    (\"9FATTN\", \"what\"),\n",
    "    (\"QLLABG\", \"what\"),\n",
    "    (\"PNGX8L\", \"what\"),\n",
    "    (\"NBMZ3G\", \"what\"),\n",
    "    (\"BZGQMC\", \"what\"),\n",
    "    (\"YJVQ9T\", \"what\"),\n",
    "    (\"BWVYMV\", \"what\"),\n",
    "    (\"BTG9U3\", \"what\"),\n",
    "    (\"PLWHZF\", \"what\"),\n",
    "    (\"QH8MNM\", \"what\"),\n",
    "    (\"DTRQAF\", \"what\"),\n",
    "    (\"GKGRWE\", \"what\"),\n",
    "    (\"HHVZ9T\", \"what\"),\n",
    "    (\"7UAFHL\", \"what\"),\n",
    "    (\"9JLCAA\", \"what\"),\n",
    "    (\"SNYJRW\", \"what\"),\n",
    "    (\"DYNEPX\", \"what\"),\n",
    "    (\"HPTCUP\", \"what\"),\n",
    "    (\"GJFZV3\", \"what\"),\n",
    "    (\"KLMZUG\", \"what\"),\n",
    "    (\"KDWCUY\", \"what\"),\n",
    "    (\"3YDRLD\", \"what\"),\n",
    "    (\"ZMUX8C\", \"what\"),\n",
    "    (\"WT8QQT\", \"what\"),\n",
    "    (\"WSDHK7\", \"what\"),\n",
    "    (\"NZDP7Z\", \"what\"),\n",
    "    (\"P3PACX\", \"what\"),\n",
    "    (\"LQKEWN\", \"what\"),\n",
    "    (\"KAESWL\", \"what\"),\n",
    "    (\"J3NGVU\", \"what\"),\n",
    "    (\"DMJWHY\", \"what\"),\n",
    "    (\"FYGNKM\", \"what\"),\n",
    "    (\"9XGCGR\", \"what\"),\n",
    "    (\"NXT98S\", \"what\"),\n",
    "    (\"9AMDQ3\", \"what\"),\n",
    "    (\"9AUABF\", \"what\"),\n",
    "    (\"UYVW7H\", \"what\"),\n",
    "    (\"VSRDS9\", \"what\"),\n",
    "    (\"SMQHZ8\", \"what\"),\n",
    "    (\"VTQMZH\", \"what\"),\n",
    "    (\"XUD8XW\", \"what\"),\n",
    "    (\"CRZE3B\", \"what\"),\n",
    "    (\"R9MHPC\", \"what\"),\n",
    "    (\"EB7WG7\", \"what\"),\n",
    "    (\"BHLJ9Z\", \"what\"),\n",
    "    (\"SFX8HC\", \"what\"),\n",
    "    (\"USZGYZ\", \"what\"),\n",
    "    (\"TLHY3K\", \"what\"),\n",
    "    (\"T8KFM8\", \"what\"),\n",
    "    (\"EJZTLX\", \"what\"),\n",
    "    (\"QT9GBY\", \"what\"),\n",
    "    (\"PSSASU\", \"what\"),\n",
    "    (\"S33LXK\", \"what\"),\n",
    "    (\"TPNZ8Y\", \"what\"),\n",
    "    (\"JZHRA8\", \"what\"),\n",
    "    (\"98U7KE\", \"what\"),\n",
    "    (\"USLA8A\", \"what\"),\n",
    "    (\"VQUVVU\", \"what\"),\n",
    "    (\"NZMB8H\", \"what\"),\n",
    "    (\"P8U3LX\", \"what\"),\n",
    "    (\"VRKZPW\", \"what\")\n",
    "], columns=[\"code\", \"decision\"])"
   ]
  },
  {
   "cell_type": "code",
   "execution_count": null,
   "id": "01c20f8c-9f44-447a-8b8f-71a933ca7f8b",
   "metadata": {},
   "outputs": [],
   "source": []
  }
 ],
 "metadata": {
  "kernelspec": {
   "display_name": "data-science",
   "language": "python",
   "name": "conda-env-data-science-py"
  },
  "language_info": {
   "codemirror_mode": {
    "name": "ipython",
    "version": 3
   },
   "file_extension": ".py",
   "mimetype": "text/x-python",
   "name": "python",
   "nbconvert_exporter": "python",
   "pygments_lexer": "ipython3",
   "version": "3.11.8"
  }
 },
 "nbformat": 4,
 "nbformat_minor": 5
}
